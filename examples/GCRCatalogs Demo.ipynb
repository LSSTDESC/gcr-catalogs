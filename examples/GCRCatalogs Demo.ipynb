{
 "cells": [
  {
   "cell_type": "markdown",
   "metadata": {},
   "source": [
    "# How to use GCRCatalogs\n",
    "\n",
    "by Yao-Yuan Mao\n",
    "\n",
    "Links to GitHub code repos: [GCRCatalogs](https://github.com/LSSTDESC/gcr-catalogs) and [GCR](https://github.com/yymao/generic-catalog-reader)\n",
    "\n",
    "**Note: You should be running this notebook at https://jupyter.nersc.gov **"
   ]
  },
  {
   "cell_type": "code",
   "execution_count": 1,
   "metadata": {
    "collapsed": true
   },
   "outputs": [],
   "source": [
    "## adding DESCQA env\n",
    "\n",
    "import sys\n",
    "\n",
    "sys.path.insert(0, '/global/common/cori/contrib/lsst/apps/anaconda/py3-envs/DESCQA/lib/python3.6/site-packages')\n",
    "\n",
    "## Note: if you use Python 2, comment the line above and uncomment the line below\n",
    "#sys.path.insert(0, '/global/common/cori/contrib/lsst/apps/anaconda/py2-envs/DESCQA/lib/python2.7/site-packages')\n",
    "\n",
    "## Note: if you clone the gcr-catalogs repo and are running this under the `examples` folder,\n",
    "## you can also add your version of GCRCatalogs:\n",
    "#sys.path.insert(0, '..')\n",
    "\n",
    "## The following lines are to check if you're in the lsst group\n",
    "import subprocess\n",
    "assert u'lsst' in subprocess.check_output(['groups']).decode().split(), 'You need to be in the `lsst` group for this notebook to work'"
   ]
  },
  {
   "cell_type": "markdown",
   "metadata": {},
   "source": [
    "## The basics:\n",
    "\n",
    "- `get_available_catalogs()` lists available catlaogs; returns `dict`.\n",
    "- `load_catalog()` loads the catalog you want; returns an instance of `GCR.BaseGenericCatalog`"
   ]
  },
  {
   "cell_type": "code",
   "execution_count": 2,
   "metadata": {
    "collapsed": false
   },
   "outputs": [
    {
     "name": "stdout",
     "output_type": "stream",
     "text": [
      "GCRCatalogs = 0.6.5 | GCR = 0.6.1\n"
     ]
    }
   ],
   "source": [
    "import GCRCatalogs\n",
    "\n",
    "## check version\n",
    "print('GCRCatalogs =', GCRCatalogs.__version__, '|' ,'GCR =', GCRCatalogs.GCR.__version__)"
   ]
  },
  {
   "cell_type": "code",
   "execution_count": 3,
   "metadata": {
    "collapsed": false
   },
   "outputs": [
    {
     "name": "stdout",
     "output_type": "stream",
     "text": [
      "buzzard\n",
      "buzzard_high-res\n",
      "buzzard_test\n",
      "dc1\n",
      "protoDC2\n"
     ]
    }
   ],
   "source": [
    "## list all find available catlaogs, sorted by their name\n",
    "\n",
    "print('\\n'.join(sorted(GCRCatalogs.get_available_catalogs())))"
   ]
  },
  {
   "cell_type": "code",
   "execution_count": 4,
   "metadata": {
    "collapsed": false
   },
   "outputs": [],
   "source": [
    "## load 'protoDC2' catalog\n",
    "\n",
    "gc = GCRCatalogs.load_catalog('protoDC2')"
   ]
  },
  {
   "cell_type": "markdown",
   "metadata": {},
   "source": [
    "## GCR interface\n",
    "\n",
    "See also the [full GCR API Documentation](https://yymao.github.io/generic-catalog-reader/index.html)."
   ]
  },
  {
   "cell_type": "markdown",
   "metadata": {
    "collapsed": true
   },
   "source": [
    "### quantities\n",
    "\n",
    "- `get_quantities()` loads the quantities you need; takes a `list` and returns `dict`.\n",
    "- `has_quantity()` and `has_quantities()` can check if the quantities you need exist; both return `bool`.\n",
    "- `list_all_quantities()` lists all available catlaogs; returns `list`."
   ]
  },
  {
   "cell_type": "code",
   "execution_count": 5,
   "metadata": {
    "collapsed": false
   },
   "outputs": [
    {
     "data": {
      "text/plain": [
       "{'dec': array([-0.00069275, -0.00067961, -0.00068704, ..., -0.00043771,\n",
       "        -0.00043785, -0.00043377], dtype=float32),\n",
       " 'mag_u_lsst': array([ 22.85408396,  20.89889978,  21.49888417, ...,  25.59293414,\n",
       "         23.05899988,  25.42904369]),\n",
       " 'ra': array([ 0.00056832, -0.0005309 ,  0.0002132 , ...,  0.00045179,\n",
       "         0.00044561,  0.00044656], dtype=float32)}"
      ]
     },
     "execution_count": 5,
     "metadata": {},
     "output_type": "execute_result"
    }
   ],
   "source": [
    "gc.get_quantities(['mag_u_lsst', 'ra', 'dec'])"
   ]
  },
  {
   "cell_type": "code",
   "execution_count": 6,
   "metadata": {
    "collapsed": false
   },
   "outputs": [
    {
     "data": {
      "text/plain": [
       "True"
      ]
     },
     "execution_count": 6,
     "metadata": {},
     "output_type": "execute_result"
    }
   ],
   "source": [
    "gc.has_quantity('mag_u_lsst')"
   ]
  },
  {
   "cell_type": "code",
   "execution_count": 7,
   "metadata": {
    "collapsed": false
   },
   "outputs": [
    {
     "data": {
      "text/plain": [
       "True"
      ]
     },
     "execution_count": 7,
     "metadata": {},
     "output_type": "execute_result"
    }
   ],
   "source": [
    "gc.has_quantities(['mag_u_lsst', 'ra', 'dec'])"
   ]
  },
  {
   "cell_type": "code",
   "execution_count": 8,
   "metadata": {
    "collapsed": false
   },
   "outputs": [
    {
     "data": {
      "text/plain": [
       "False"
      ]
     },
     "execution_count": 8,
     "metadata": {},
     "output_type": "execute_result"
    }
   ],
   "source": [
    "## Only returns `True` if *all* quantities exist\n",
    "gc.has_quantities(['mag_u_lsst', 'ra', 'dec', 'quantitiy_that_does_not_exist'])"
   ]
  },
  {
   "cell_type": "code",
   "execution_count": 9,
   "metadata": {
    "collapsed": false
   },
   "outputs": [
    {
     "name": "stdout",
     "output_type": "stream",
     "text": [
      "mag_z_sdss, Mag_true_z_sdss_z0, velocity_x, shear_1, size_disk_true, mag_u_lsst, mag_r_lsst, ra_true, dec, Mag_true_g_lsst_z0, Mag_true_r_sdss_z0, mag_Y_lsst, bulge_sersic_index, position_x, mag_i_lsst, disk_sersic_index, shear_2, Mag_true_u_lsst_z0, Mag_true_i_sdss_z0, redshift_true, size_bulge_true, velocity_y, mag_z_lsst, mag_g_lsst, Mag_true_i_lsst_z0, mag_i_sdss, Mag_true_Y_lsst_z0, galaxy_id, is_central, halo_mass, Mag_true_z_lsst_z0, Mag_true_r_lsst_z0, Mag_true_g_sdss_z0, mag_r_sdss, dec_true, mag_g_sdss, position_y, magnification, position_z, mag_u_sdss, halo_id, convergence, velocity_z, Mag_true_u_sdss_z0, ra, stellar_mass, redshift\n"
     ]
    }
   ],
   "source": [
    "print(', '.join(gc.list_all_quantities()))"
   ]
  },
  {
   "cell_type": "markdown",
   "metadata": {},
   "source": [
    "### accessing native quantities\n",
    "\n",
    "Native quantities are quantities that have not yet be homogenized (to common labels/units).\n",
    "However, you can still access them as long as you know what you are doing. "
   ]
  },
  {
   "cell_type": "code",
   "execution_count": 10,
   "metadata": {
    "collapsed": false
   },
   "outputs": [
    {
     "name": "stdout",
     "output_type": "stream",
     "text": [
      "LSST_filters/diskLuminositiesStellar:LSST_g:observed\n",
      "LSST_filters/diskLuminositiesStellar:LSST_g:observed:dustAtlas\n",
      "LSST_filters/diskLuminositiesStellar:LSST_g:rest\n",
      "LSST_filters/diskLuminositiesStellar:LSST_g:rest:dustAtlas\n",
      "LSST_filters/diskLuminositiesStellar:LSST_i:observed\n"
     ]
    }
   ],
   "source": [
    "## print out the first 5 native quantities\n",
    "\n",
    "print('\\n'.join(sorted(gc.list_all_native_quantities())[:5]))"
   ]
  },
  {
   "cell_type": "code",
   "execution_count": 11,
   "metadata": {
    "collapsed": false
   },
   "outputs": [
    {
     "data": {
      "text/plain": [
       "{'emissionLines/diskLineLuminosity:balmerAlpha6563:rest': array([  2.95460152e+04,   1.36217248e+07,   7.35076121e+06, ...,\n",
       "          3.28912552e+07,   3.07296106e+08,   3.50137854e+07]),\n",
       " 'emissionLines/diskLineLuminosity:balmerAlpha6563:rest:contam_nitrogenII6584': array([  2.98620241e+04,   1.39448999e+07,   7.57534427e+06, ...,\n",
       "          3.40582469e+07,   3.19260779e+08,   3.63504006e+07])}"
      ]
     },
     "execution_count": 11,
     "metadata": {},
     "output_type": "execute_result"
    }
   ],
   "source": [
    "gc.get_quantities(['emissionLines/diskLineLuminosity:balmerAlpha6563:rest',\n",
    "                   'emissionLines/diskLineLuminosity:balmerAlpha6563:rest:contam_nitrogenII6584'])"
   ]
  },
  {
   "cell_type": "markdown",
   "metadata": {},
   "source": [
    "You can also rename the native quantities by using `add_quantity_modifier()`. For example:"
   ]
  },
  {
   "cell_type": "code",
   "execution_count": 12,
   "metadata": {
    "collapsed": false
   },
   "outputs": [
    {
     "data": {
      "text/plain": [
       "{'balmer_alpha_6563': array([  2.95460152e+04,   1.36217248e+07,   7.35076121e+06, ...,\n",
       "          3.28912552e+07,   3.07296106e+08,   3.50137854e+07])}"
      ]
     },
     "execution_count": 12,
     "metadata": {},
     "output_type": "execute_result"
    }
   ],
   "source": [
    "gc.add_quantity_modifier('balmer_alpha_6563', 'emissionLines/diskLineLuminosity:balmerAlpha6563:rest')\n",
    "gc.get_quantities(['balmer_alpha_6563'])"
   ]
  },
  {
   "cell_type": "markdown",
   "metadata": {},
   "source": [
    "To get all native quantities that match a regex"
   ]
  },
  {
   "cell_type": "code",
   "execution_count": 13,
   "metadata": {
    "collapsed": false
   },
   "outputs": [],
   "source": [
    "import re\n",
    "\n",
    "data = gc.get_quantities([q for q in gc.list_all_native_quantities() if re.match('SEDs/totalLuminositiesStellar:SED_\\d+_\\d+:rest:dustAtlas', q)]) "
   ]
  },
  {
   "cell_type": "markdown",
   "metadata": {},
   "source": [
    "### more info about the catalog\n",
    "\n",
    "- `lightcone` is a `bool`\n",
    "- `cosmology` is a instance of `astropy.cosmology.FLRW`\n",
    "- `get_input_kwargs()` returns a `dict` (when no argument) from the orignal yaml config file. \n",
    "  If a argument if passed, it returns the corresponding value for key=argument"
   ]
  },
  {
   "cell_type": "code",
   "execution_count": 14,
   "metadata": {
    "collapsed": false
   },
   "outputs": [
    {
     "data": {
      "text/plain": [
       "True"
      ]
     },
     "execution_count": 14,
     "metadata": {},
     "output_type": "execute_result"
    }
   ],
   "source": [
    "gc.lightcone"
   ]
  },
  {
   "cell_type": "code",
   "execution_count": 15,
   "metadata": {
    "collapsed": false
   },
   "outputs": [
    {
     "data": {
      "text/plain": [
       "FlatLambdaCDM(H0=71 km / (Mpc s), Om0=0.265, Tcmb0=0 K, Neff=3.04, m_nu=None, Ob0=0.0448)"
      ]
     },
     "execution_count": 15,
     "metadata": {},
     "output_type": "execute_result"
    }
   ],
   "source": [
    "gc.cosmology"
   ]
  },
  {
   "cell_type": "code",
   "execution_count": 16,
   "metadata": {
    "collapsed": false
   },
   "outputs": [
    {
     "name": "stdout",
     "output_type": "stream",
     "text": [
      "ProtoDC2 is a down-scaled version of the catalog to be generated for LSST-DESC DC2.\n",
      "For a description of the catalog and the methods, please see https://goo.gl/fXDQwP\n",
      "\n"
     ]
    }
   ],
   "source": [
    "print(gc.get_catalog_info('description'))"
   ]
  },
  {
   "cell_type": "code",
   "execution_count": 17,
   "metadata": {
    "collapsed": false
   },
   "outputs": [
    {
     "name": "stdout",
     "output_type": "stream",
     "text": [
      "2.1\n"
     ]
    }
   ],
   "source": [
    "print(gc.get_catalog_info('version'))"
   ]
  },
  {
   "cell_type": "code",
   "execution_count": 18,
   "metadata": {
    "collapsed": false
   },
   "outputs": [
    {
     "name": "stdout",
     "output_type": "stream",
     "text": [
      "{'subclass_name': 'alphaq.AlphaQGalaxyCatalog', 'filename': '/global/projecta/projectdirs/lsst/groups/CS/descqa/catalog/ANL_AlphaQ_v2.1.hdf5', 'lightcone': True, 'version': '2.1', 'creators': ['Eve Kovacs', 'Danila Korytov', 'Katrin Heitmann', 'Andrew Benson'], 'description': 'ProtoDC2 is a down-scaled version of the catalog to be generated for LSST-DESC DC2.\\nFor a description of the catalog and the methods, please see https://goo.gl/fXDQwP\\n'}\n"
     ]
    }
   ],
   "source": [
    "print(gc.get_catalog_info())"
   ]
  },
  {
   "cell_type": "markdown",
   "metadata": {},
   "source": [
    "### more tips on using the quantities\n",
    "\n",
    "#### tip 1\n",
    "`get_quantities()` returns a dictionary, which you can easily turn into a `astropy.table.Table` or `pandas.DataFrame`"
   ]
  },
  {
   "cell_type": "code",
   "execution_count": 19,
   "metadata": {
    "collapsed": true
   },
   "outputs": [],
   "source": [
    "data = gc.get_quantities(['mag_u_lsst', 'ra', 'dec'])"
   ]
  },
  {
   "cell_type": "code",
   "execution_count": 20,
   "metadata": {
    "collapsed": false
   },
   "outputs": [
    {
     "data": {
      "text/html": [
       "<div>\n",
       "<style>\n",
       "    .dataframe thead tr:only-child th {\n",
       "        text-align: right;\n",
       "    }\n",
       "\n",
       "    .dataframe thead th {\n",
       "        text-align: left;\n",
       "    }\n",
       "\n",
       "    .dataframe tbody tr th {\n",
       "        vertical-align: top;\n",
       "    }\n",
       "</style>\n",
       "<table border=\"1\" class=\"dataframe\">\n",
       "  <thead>\n",
       "    <tr style=\"text-align: right;\">\n",
       "      <th></th>\n",
       "      <th>dec</th>\n",
       "      <th>mag_u_lsst</th>\n",
       "      <th>ra</th>\n",
       "    </tr>\n",
       "  </thead>\n",
       "  <tbody>\n",
       "    <tr>\n",
       "      <th>0</th>\n",
       "      <td>-0.000693</td>\n",
       "      <td>22.854084</td>\n",
       "      <td>0.000568</td>\n",
       "    </tr>\n",
       "    <tr>\n",
       "      <th>1</th>\n",
       "      <td>-0.000680</td>\n",
       "      <td>20.898900</td>\n",
       "      <td>-0.000531</td>\n",
       "    </tr>\n",
       "    <tr>\n",
       "      <th>2</th>\n",
       "      <td>-0.000687</td>\n",
       "      <td>21.498884</td>\n",
       "      <td>0.000213</td>\n",
       "    </tr>\n",
       "    <tr>\n",
       "      <th>3</th>\n",
       "      <td>-0.000692</td>\n",
       "      <td>23.390713</td>\n",
       "      <td>-0.000535</td>\n",
       "    </tr>\n",
       "    <tr>\n",
       "      <th>4</th>\n",
       "      <td>-0.000694</td>\n",
       "      <td>23.324795</td>\n",
       "      <td>-0.000537</td>\n",
       "    </tr>\n",
       "    <tr>\n",
       "      <th>5</th>\n",
       "      <td>-0.000694</td>\n",
       "      <td>24.671431</td>\n",
       "      <td>-0.000537</td>\n",
       "    </tr>\n",
       "    <tr>\n",
       "      <th>6</th>\n",
       "      <td>-0.000692</td>\n",
       "      <td>24.665397</td>\n",
       "      <td>-0.000537</td>\n",
       "    </tr>\n",
       "    <tr>\n",
       "      <th>7</th>\n",
       "      <td>-0.000692</td>\n",
       "      <td>25.212185</td>\n",
       "      <td>-0.000540</td>\n",
       "    </tr>\n",
       "    <tr>\n",
       "      <th>8</th>\n",
       "      <td>-0.000690</td>\n",
       "      <td>24.560172</td>\n",
       "      <td>-0.000537</td>\n",
       "    </tr>\n",
       "    <tr>\n",
       "      <th>9</th>\n",
       "      <td>-0.000694</td>\n",
       "      <td>25.115313</td>\n",
       "      <td>-0.000536</td>\n",
       "    </tr>\n",
       "    <tr>\n",
       "      <th>10</th>\n",
       "      <td>-0.000689</td>\n",
       "      <td>23.858041</td>\n",
       "      <td>-0.000544</td>\n",
       "    </tr>\n",
       "    <tr>\n",
       "      <th>11</th>\n",
       "      <td>-0.000685</td>\n",
       "      <td>22.082749</td>\n",
       "      <td>-0.000550</td>\n",
       "    </tr>\n",
       "    <tr>\n",
       "      <th>12</th>\n",
       "      <td>-0.000690</td>\n",
       "      <td>21.456219</td>\n",
       "      <td>-0.000583</td>\n",
       "    </tr>\n",
       "    <tr>\n",
       "      <th>13</th>\n",
       "      <td>-0.000678</td>\n",
       "      <td>20.411777</td>\n",
       "      <td>-0.000647</td>\n",
       "    </tr>\n",
       "    <tr>\n",
       "      <th>14</th>\n",
       "      <td>-0.000693</td>\n",
       "      <td>23.207302</td>\n",
       "      <td>-0.000210</td>\n",
       "    </tr>\n",
       "    <tr>\n",
       "      <th>15</th>\n",
       "      <td>-0.000683</td>\n",
       "      <td>24.303734</td>\n",
       "      <td>-0.000556</td>\n",
       "    </tr>\n",
       "    <tr>\n",
       "      <th>16</th>\n",
       "      <td>-0.000691</td>\n",
       "      <td>24.942023</td>\n",
       "      <td>-0.000234</td>\n",
       "    </tr>\n",
       "    <tr>\n",
       "      <th>17</th>\n",
       "      <td>-0.000694</td>\n",
       "      <td>20.877622</td>\n",
       "      <td>-0.000537</td>\n",
       "    </tr>\n",
       "    <tr>\n",
       "      <th>18</th>\n",
       "      <td>-0.000693</td>\n",
       "      <td>22.228049</td>\n",
       "      <td>-0.000535</td>\n",
       "    </tr>\n",
       "    <tr>\n",
       "      <th>19</th>\n",
       "      <td>-0.000689</td>\n",
       "      <td>23.752953</td>\n",
       "      <td>-0.000278</td>\n",
       "    </tr>\n",
       "    <tr>\n",
       "      <th>20</th>\n",
       "      <td>-0.000689</td>\n",
       "      <td>23.208916</td>\n",
       "      <td>-0.000279</td>\n",
       "    </tr>\n",
       "    <tr>\n",
       "      <th>21</th>\n",
       "      <td>-0.000685</td>\n",
       "      <td>23.715850</td>\n",
       "      <td>-0.000476</td>\n",
       "    </tr>\n",
       "    <tr>\n",
       "      <th>22</th>\n",
       "      <td>-0.000691</td>\n",
       "      <td>22.790951</td>\n",
       "      <td>-0.000220</td>\n",
       "    </tr>\n",
       "    <tr>\n",
       "      <th>23</th>\n",
       "      <td>-0.000683</td>\n",
       "      <td>20.073363</td>\n",
       "      <td>-0.000443</td>\n",
       "    </tr>\n",
       "    <tr>\n",
       "      <th>24</th>\n",
       "      <td>-0.000689</td>\n",
       "      <td>20.251129</td>\n",
       "      <td>-0.000276</td>\n",
       "    </tr>\n",
       "    <tr>\n",
       "      <th>25</th>\n",
       "      <td>-0.000691</td>\n",
       "      <td>24.649878</td>\n",
       "      <td>-0.000098</td>\n",
       "    </tr>\n",
       "    <tr>\n",
       "      <th>26</th>\n",
       "      <td>-0.000690</td>\n",
       "      <td>20.889439</td>\n",
       "      <td>-0.000475</td>\n",
       "    </tr>\n",
       "    <tr>\n",
       "      <th>27</th>\n",
       "      <td>-0.000682</td>\n",
       "      <td>24.304339</td>\n",
       "      <td>-0.000562</td>\n",
       "    </tr>\n",
       "    <tr>\n",
       "      <th>28</th>\n",
       "      <td>-0.000693</td>\n",
       "      <td>24.745613</td>\n",
       "      <td>-0.000685</td>\n",
       "    </tr>\n",
       "    <tr>\n",
       "      <th>29</th>\n",
       "      <td>-0.000686</td>\n",
       "      <td>24.413685</td>\n",
       "      <td>-0.000161</td>\n",
       "    </tr>\n",
       "    <tr>\n",
       "      <th>...</th>\n",
       "      <td>...</td>\n",
       "      <td>...</td>\n",
       "      <td>...</td>\n",
       "    </tr>\n",
       "    <tr>\n",
       "      <th>10022466</th>\n",
       "      <td>-0.000418</td>\n",
       "      <td>23.708363</td>\n",
       "      <td>0.000446</td>\n",
       "    </tr>\n",
       "    <tr>\n",
       "      <th>10022467</th>\n",
       "      <td>-0.000444</td>\n",
       "      <td>24.526492</td>\n",
       "      <td>0.000453</td>\n",
       "    </tr>\n",
       "    <tr>\n",
       "      <th>10022468</th>\n",
       "      <td>-0.000439</td>\n",
       "      <td>25.764100</td>\n",
       "      <td>0.000452</td>\n",
       "    </tr>\n",
       "    <tr>\n",
       "      <th>10022469</th>\n",
       "      <td>-0.000428</td>\n",
       "      <td>26.793652</td>\n",
       "      <td>0.000445</td>\n",
       "    </tr>\n",
       "    <tr>\n",
       "      <th>10022470</th>\n",
       "      <td>-0.000440</td>\n",
       "      <td>26.725769</td>\n",
       "      <td>0.000452</td>\n",
       "    </tr>\n",
       "    <tr>\n",
       "      <th>10022471</th>\n",
       "      <td>-0.000437</td>\n",
       "      <td>25.523858</td>\n",
       "      <td>0.000446</td>\n",
       "    </tr>\n",
       "    <tr>\n",
       "      <th>10022472</th>\n",
       "      <td>-0.000419</td>\n",
       "      <td>27.130554</td>\n",
       "      <td>0.000449</td>\n",
       "    </tr>\n",
       "    <tr>\n",
       "      <th>10022473</th>\n",
       "      <td>-0.000419</td>\n",
       "      <td>26.762693</td>\n",
       "      <td>0.000449</td>\n",
       "    </tr>\n",
       "    <tr>\n",
       "      <th>10022474</th>\n",
       "      <td>-0.000415</td>\n",
       "      <td>27.154435</td>\n",
       "      <td>0.000446</td>\n",
       "    </tr>\n",
       "    <tr>\n",
       "      <th>10022475</th>\n",
       "      <td>-0.000438</td>\n",
       "      <td>29.384039</td>\n",
       "      <td>0.000446</td>\n",
       "    </tr>\n",
       "    <tr>\n",
       "      <th>10022476</th>\n",
       "      <td>-0.000436</td>\n",
       "      <td>28.352868</td>\n",
       "      <td>0.000449</td>\n",
       "    </tr>\n",
       "    <tr>\n",
       "      <th>10022477</th>\n",
       "      <td>-0.000436</td>\n",
       "      <td>23.932302</td>\n",
       "      <td>0.000447</td>\n",
       "    </tr>\n",
       "    <tr>\n",
       "      <th>10022478</th>\n",
       "      <td>-0.000435</td>\n",
       "      <td>25.948968</td>\n",
       "      <td>0.000452</td>\n",
       "    </tr>\n",
       "    <tr>\n",
       "      <th>10022479</th>\n",
       "      <td>-0.000437</td>\n",
       "      <td>26.500836</td>\n",
       "      <td>0.000450</td>\n",
       "    </tr>\n",
       "    <tr>\n",
       "      <th>10022480</th>\n",
       "      <td>-0.000419</td>\n",
       "      <td>27.789902</td>\n",
       "      <td>0.000446</td>\n",
       "    </tr>\n",
       "    <tr>\n",
       "      <th>10022481</th>\n",
       "      <td>-0.000442</td>\n",
       "      <td>25.398300</td>\n",
       "      <td>0.000448</td>\n",
       "    </tr>\n",
       "    <tr>\n",
       "      <th>10022482</th>\n",
       "      <td>-0.000438</td>\n",
       "      <td>27.269351</td>\n",
       "      <td>0.000446</td>\n",
       "    </tr>\n",
       "    <tr>\n",
       "      <th>10022483</th>\n",
       "      <td>-0.000437</td>\n",
       "      <td>28.617125</td>\n",
       "      <td>0.000448</td>\n",
       "    </tr>\n",
       "    <tr>\n",
       "      <th>10022484</th>\n",
       "      <td>-0.000431</td>\n",
       "      <td>28.301127</td>\n",
       "      <td>0.000440</td>\n",
       "    </tr>\n",
       "    <tr>\n",
       "      <th>10022485</th>\n",
       "      <td>-0.000429</td>\n",
       "      <td>26.355287</td>\n",
       "      <td>0.000432</td>\n",
       "    </tr>\n",
       "    <tr>\n",
       "      <th>10022486</th>\n",
       "      <td>-0.000418</td>\n",
       "      <td>26.211712</td>\n",
       "      <td>0.000448</td>\n",
       "    </tr>\n",
       "    <tr>\n",
       "      <th>10022487</th>\n",
       "      <td>-0.000424</td>\n",
       "      <td>27.558156</td>\n",
       "      <td>0.000443</td>\n",
       "    </tr>\n",
       "    <tr>\n",
       "      <th>10022488</th>\n",
       "      <td>-0.000416</td>\n",
       "      <td>27.292099</td>\n",
       "      <td>0.000446</td>\n",
       "    </tr>\n",
       "    <tr>\n",
       "      <th>10022489</th>\n",
       "      <td>-0.000417</td>\n",
       "      <td>26.243309</td>\n",
       "      <td>0.000445</td>\n",
       "    </tr>\n",
       "    <tr>\n",
       "      <th>10022490</th>\n",
       "      <td>-0.000417</td>\n",
       "      <td>25.497607</td>\n",
       "      <td>0.000443</td>\n",
       "    </tr>\n",
       "    <tr>\n",
       "      <th>10022491</th>\n",
       "      <td>-0.000438</td>\n",
       "      <td>25.634294</td>\n",
       "      <td>0.000448</td>\n",
       "    </tr>\n",
       "    <tr>\n",
       "      <th>10022492</th>\n",
       "      <td>-0.000441</td>\n",
       "      <td>24.767562</td>\n",
       "      <td>0.000446</td>\n",
       "    </tr>\n",
       "    <tr>\n",
       "      <th>10022493</th>\n",
       "      <td>-0.000438</td>\n",
       "      <td>25.592934</td>\n",
       "      <td>0.000452</td>\n",
       "    </tr>\n",
       "    <tr>\n",
       "      <th>10022494</th>\n",
       "      <td>-0.000438</td>\n",
       "      <td>23.059000</td>\n",
       "      <td>0.000446</td>\n",
       "    </tr>\n",
       "    <tr>\n",
       "      <th>10022495</th>\n",
       "      <td>-0.000434</td>\n",
       "      <td>25.429044</td>\n",
       "      <td>0.000447</td>\n",
       "    </tr>\n",
       "  </tbody>\n",
       "</table>\n",
       "<p>10022496 rows × 3 columns</p>\n",
       "</div>"
      ],
      "text/plain": [
       "               dec  mag_u_lsst        ra\n",
       "0        -0.000693   22.854084  0.000568\n",
       "1        -0.000680   20.898900 -0.000531\n",
       "2        -0.000687   21.498884  0.000213\n",
       "3        -0.000692   23.390713 -0.000535\n",
       "4        -0.000694   23.324795 -0.000537\n",
       "5        -0.000694   24.671431 -0.000537\n",
       "6        -0.000692   24.665397 -0.000537\n",
       "7        -0.000692   25.212185 -0.000540\n",
       "8        -0.000690   24.560172 -0.000537\n",
       "9        -0.000694   25.115313 -0.000536\n",
       "10       -0.000689   23.858041 -0.000544\n",
       "11       -0.000685   22.082749 -0.000550\n",
       "12       -0.000690   21.456219 -0.000583\n",
       "13       -0.000678   20.411777 -0.000647\n",
       "14       -0.000693   23.207302 -0.000210\n",
       "15       -0.000683   24.303734 -0.000556\n",
       "16       -0.000691   24.942023 -0.000234\n",
       "17       -0.000694   20.877622 -0.000537\n",
       "18       -0.000693   22.228049 -0.000535\n",
       "19       -0.000689   23.752953 -0.000278\n",
       "20       -0.000689   23.208916 -0.000279\n",
       "21       -0.000685   23.715850 -0.000476\n",
       "22       -0.000691   22.790951 -0.000220\n",
       "23       -0.000683   20.073363 -0.000443\n",
       "24       -0.000689   20.251129 -0.000276\n",
       "25       -0.000691   24.649878 -0.000098\n",
       "26       -0.000690   20.889439 -0.000475\n",
       "27       -0.000682   24.304339 -0.000562\n",
       "28       -0.000693   24.745613 -0.000685\n",
       "29       -0.000686   24.413685 -0.000161\n",
       "...            ...         ...       ...\n",
       "10022466 -0.000418   23.708363  0.000446\n",
       "10022467 -0.000444   24.526492  0.000453\n",
       "10022468 -0.000439   25.764100  0.000452\n",
       "10022469 -0.000428   26.793652  0.000445\n",
       "10022470 -0.000440   26.725769  0.000452\n",
       "10022471 -0.000437   25.523858  0.000446\n",
       "10022472 -0.000419   27.130554  0.000449\n",
       "10022473 -0.000419   26.762693  0.000449\n",
       "10022474 -0.000415   27.154435  0.000446\n",
       "10022475 -0.000438   29.384039  0.000446\n",
       "10022476 -0.000436   28.352868  0.000449\n",
       "10022477 -0.000436   23.932302  0.000447\n",
       "10022478 -0.000435   25.948968  0.000452\n",
       "10022479 -0.000437   26.500836  0.000450\n",
       "10022480 -0.000419   27.789902  0.000446\n",
       "10022481 -0.000442   25.398300  0.000448\n",
       "10022482 -0.000438   27.269351  0.000446\n",
       "10022483 -0.000437   28.617125  0.000448\n",
       "10022484 -0.000431   28.301127  0.000440\n",
       "10022485 -0.000429   26.355287  0.000432\n",
       "10022486 -0.000418   26.211712  0.000448\n",
       "10022487 -0.000424   27.558156  0.000443\n",
       "10022488 -0.000416   27.292099  0.000446\n",
       "10022489 -0.000417   26.243309  0.000445\n",
       "10022490 -0.000417   25.497607  0.000443\n",
       "10022491 -0.000438   25.634294  0.000448\n",
       "10022492 -0.000441   24.767562  0.000446\n",
       "10022493 -0.000438   25.592934  0.000452\n",
       "10022494 -0.000438   23.059000  0.000446\n",
       "10022495 -0.000434   25.429044  0.000447\n",
       "\n",
       "[10022496 rows x 3 columns]"
      ]
     },
     "execution_count": 20,
     "metadata": {},
     "output_type": "execute_result"
    }
   ],
   "source": [
    "import pandas as pd\n",
    "pd.DataFrame(data)"
   ]
  },
  {
   "cell_type": "code",
   "execution_count": 21,
   "metadata": {
    "collapsed": false,
    "scrolled": true
   },
   "outputs": [
    {
     "data": {
      "text/html": [
       "&lt;Table length=10022496&gt;\n",
       "<table id=\"table140272155127648\" class=\"table-striped table-bordered table-condensed\">\n",
       "<thead><tr><th>mag_u_lsst</th><th>dec</th><th>ra</th></tr></thead>\n",
       "<thead><tr><th>float64</th><th>float32</th><th>float32</th></tr></thead>\n",
       "<tr><td>22.854083964</td><td>-0.000692751</td><td>0.000568322</td></tr>\n",
       "<tr><td>20.898899778</td><td>-0.000679608</td><td>-0.000530904</td></tr>\n",
       "<tr><td>21.4988841667</td><td>-0.00068704</td><td>0.000213199</td></tr>\n",
       "<tr><td>23.3907129004</td><td>-0.000691939</td><td>-0.000534508</td></tr>\n",
       "<tr><td>23.3247952146</td><td>-0.000694164</td><td>-0.000536834</td></tr>\n",
       "<tr><td>24.6714314075</td><td>-0.00069383</td><td>-0.000536783</td></tr>\n",
       "<tr><td>24.6653968004</td><td>-0.00069245</td><td>-0.000537204</td></tr>\n",
       "<tr><td>25.2121852079</td><td>-0.000691746</td><td>-0.000539913</td></tr>\n",
       "<tr><td>24.5601718799</td><td>-0.000690122</td><td>-0.000537169</td></tr>\n",
       "<tr><td>25.1153127079</td><td>-0.000694168</td><td>-0.000535903</td></tr>\n",
       "<tr><td>...</td><td>...</td><td>...</td></tr>\n",
       "<tr><td>26.2117123651</td><td>-0.000418031</td><td>0.000447604</td></tr>\n",
       "<tr><td>27.5581560531</td><td>-0.000423848</td><td>0.000443437</td></tr>\n",
       "<tr><td>27.2920994915</td><td>-0.000415826</td><td>0.000445782</td></tr>\n",
       "<tr><td>26.2433088084</td><td>-0.000416708</td><td>0.000445063</td></tr>\n",
       "<tr><td>25.4976073237</td><td>-0.000416622</td><td>0.000443068</td></tr>\n",
       "<tr><td>25.6342943852</td><td>-0.000438488</td><td>0.000448442</td></tr>\n",
       "<tr><td>24.7675616997</td><td>-0.000440783</td><td>0.000446202</td></tr>\n",
       "<tr><td>25.5929341432</td><td>-0.000437707</td><td>0.000451791</td></tr>\n",
       "<tr><td>23.0589998787</td><td>-0.000437845</td><td>0.000445611</td></tr>\n",
       "<tr><td>25.4290436948</td><td>-0.000433767</td><td>0.000446562</td></tr>\n",
       "</table>"
      ],
      "text/plain": [
       "<Table length=10022496>\n",
       "  mag_u_lsst      dec           ra     \n",
       "   float64      float32      float32   \n",
       "------------- ------------ ------------\n",
       " 22.854083964 -0.000692751  0.000568322\n",
       " 20.898899778 -0.000679608 -0.000530904\n",
       "21.4988841667  -0.00068704  0.000213199\n",
       "23.3907129004 -0.000691939 -0.000534508\n",
       "23.3247952146 -0.000694164 -0.000536834\n",
       "24.6714314075  -0.00069383 -0.000536783\n",
       "24.6653968004  -0.00069245 -0.000537204\n",
       "25.2121852079 -0.000691746 -0.000539913\n",
       "24.5601718799 -0.000690122 -0.000537169\n",
       "25.1153127079 -0.000694168 -0.000535903\n",
       "          ...          ...          ...\n",
       "26.2117123651 -0.000418031  0.000447604\n",
       "27.5581560531 -0.000423848  0.000443437\n",
       "27.2920994915 -0.000415826  0.000445782\n",
       "26.2433088084 -0.000416708  0.000445063\n",
       "25.4976073237 -0.000416622  0.000443068\n",
       "25.6342943852 -0.000438488  0.000448442\n",
       "24.7675616997 -0.000440783  0.000446202\n",
       "25.5929341432 -0.000437707  0.000451791\n",
       "23.0589998787 -0.000437845  0.000445611\n",
       "25.4290436948 -0.000433767  0.000446562"
      ]
     },
     "execution_count": 21,
     "metadata": {},
     "output_type": "execute_result"
    }
   ],
   "source": [
    "from astropy.table import Table\n",
    "Table(data)"
   ]
  },
  {
   "cell_type": "markdown",
   "metadata": {},
   "source": [
    "#### tip 2\n",
    "\n",
    "Sometimes you can allow slightly different quantiies (for example, lsst u band and sdss u band) when comparing different catalogs. In this case, you can use `first_available()` to get the first available of the given catalog."
   ]
  },
  {
   "cell_type": "code",
   "execution_count": 22,
   "metadata": {
    "collapsed": false
   },
   "outputs": [
    {
     "name": "stderr",
     "output_type": "stream",
     "text": [
      "/global/common/cori/contrib/lsst/apps/anaconda/py3-envs/DESCQA/lib/python3.6/site-packages/GCR.py:199: UserWarning: mag_u_des not available; using mag_u_sdss instead\n",
      "  warnings.warn('{} not available; using {} instead'.format(quantities[0], q))\n"
     ]
    },
    {
     "data": {
      "text/plain": [
       "'mag_u_sdss'"
      ]
     },
     "execution_count": 22,
     "metadata": {},
     "output_type": "execute_result"
    }
   ],
   "source": [
    "gc.first_available('mag_u_des', 'mag_u_sdss', 'mag_u_lsst')"
   ]
  },
  {
   "cell_type": "markdown",
   "metadata": {},
   "source": [
    "### Here's a full example"
   ]
  },
  {
   "cell_type": "code",
   "execution_count": 23,
   "metadata": {
    "collapsed": true
   },
   "outputs": [],
   "source": [
    "import numpy as np\n",
    "from astropy.table import Table\n",
    "import matplotlib.pyplot as plt\n",
    "%matplotlib inline"
   ]
  },
  {
   "cell_type": "code",
   "execution_count": 24,
   "metadata": {
    "collapsed": false
   },
   "outputs": [],
   "source": [
    "catalogs = ('protoDC2', 'buzzard_test')\n",
    "gc_all = dict(zip(catalogs, (GCRCatalogs.load_catalog(c) for c in catalogs)))"
   ]
  },
  {
   "cell_type": "code",
   "execution_count": 25,
   "metadata": {
    "collapsed": false
   },
   "outputs": [
    {
     "name": "stderr",
     "output_type": "stream",
     "text": [
      "/global/common/cori/contrib/lsst/apps/anaconda/py3-envs/DESCQA/lib/python3.6/site-packages/GCR.py:199: UserWarning: mag_g_lsst not available; using mag_g_des instead\n",
      "  warnings.warn('{} not available; using {} instead'.format(quantities[0], q))\n",
      "/global/common/cori/contrib/lsst/apps/anaconda/py3-envs/DESCQA/lib/python3.6/site-packages/GCR.py:199: UserWarning: mag_r_lsst not available; using mag_r_des instead\n",
      "  warnings.warn('{} not available; using {} instead'.format(quantities[0], q))\n"
     ]
    },
    {
     "data": {
      "image/png": "[encoded data removed]",
      "text/plain": [
       "<matplotlib.figure.Figure at 0x7f93910671d0>"
      ]
     },
     "metadata": {},
     "output_type": "display_data"
    }
   ],
   "source": [
    "fig, ax = plt.subplots(ncols=2, figsize=(12,5), dpi=100)\n",
    "\n",
    "for label, gc_this in gc_all.items():\n",
    "    mag_g = gc_this.first_available('mag_g_lsst', 'mag_g_sdss', 'mag_g_des')\n",
    "    mag_r = gc_this.first_available('mag_r_lsst', 'mag_r_sdss', 'mag_r_des')\n",
    "    redshift = gc_this.first_available('redshift_true', 'redshift')\n",
    "    quantities_needed = [mag_g, mag_r, redshift]\n",
    "    \n",
    "    data = Table(gc_this.get_quantities(quantities_needed, [redshift + '> 0.1', redshift + '< 0.3']))\n",
    "    \n",
    "    data = data[np.isfinite(data[mag_g]) & np.isfinite(data[mag_r])]\n",
    "    data = data[data[mag_r] < 22.0]\n",
    "    \n",
    "    ax[0].hist(data[redshift], 20, normed=True, alpha=0.6, label=label);\n",
    "    ax[1].hist(data[mag_g] - data[mag_r], 20, normed=True, alpha=0.6);\n",
    "\n",
    "ax[0].legend(frameon=False);\n",
    "ax[0].set_xlabel('$z$');\n",
    "ax[1].set_xlabel('$g-r$');"
   ]
  },
  {
   "cell_type": "code",
   "execution_count": null,
   "metadata": {
    "collapsed": true
   },
   "outputs": [],
   "source": []
  }
 ],
 "metadata": {
  "kernelspec": {
   "display_name": "Python 3",
   "language": "python",
   "name": "python3"
  },
  "language_info": {
   "codemirror_mode": {
    "name": "ipython",
    "version": 3
   },
   "file_extension": ".py",
   "mimetype": "text/x-python",
   "name": "python",
   "nbconvert_exporter": "python",
   "pygments_lexer": "ipython3",
   "version": "3.6.0"
  }
 },
 "nbformat": 4,
 "nbformat_minor": 2
}
